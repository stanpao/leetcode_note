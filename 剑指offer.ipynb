{
 "cells": [
  {
   "cell_type": "code",
   "execution_count": 8,
   "metadata": {
    "collapsed": true
   },
   "outputs": [],
   "source": [
    "# Day 1\n",
    "# 数组中重复数字 https://leetcode-cn.com/problems/shu-zu-zhong-zhong-fu-de-shu-zi-lcof/\n",
    "def find_repeat_number(self, nums: list) -> int:\n",
    "    # list非唯一映射，速度慢\n",
    "    tmp = dict()\n",
    "    for i in nums:\n",
    "        if i not in tmp:\n",
    "            tmp[i] = ''\n",
    "        else:\n",
    "            return i\n",
    "\n",
    "# 二维数组中查找 https://leetcode-cn.com/problems/er-wei-shu-zu-zhong-de-cha-zhao-lcof/\n",
    "def find_num_in_2d_array(self, matrix, target: int) -> bool:\n",
    "        for n in matrix:\n",
    "            for m in n:\n",
    "                if m == target:\n",
    "                    return True\n",
    "                if m > target:\n",
    "                    break\n",
    "                if m < target:\n",
    "                    continue\n",
    "        else:\n",
    "            return False\n",
    "\n",
    "# 替换空格 https://leetcode-cn.com/problems/ti-huan-kong-ge-lcof/\n",
    "def replace_space(self, s: str) -> str:\n",
    "        return '%20'.join(s.split(' '))\n",
    "\n",
    "# 倒序打印链表 https://leetcode-cn.com/problems/cong-wei-dao-tou-da-yin-lian-biao-lcof/submissions/\n",
    "# Definition for singly-linked list.\n",
    "# class ListNode:\n",
    "#     def __init__(self, x):\n",
    "#         self.val = x\n",
    "#         self.next = None\n",
    "\n",
    "class Solution:\n",
    "    def reversePrint(self, head):\n",
    "        tmp = []\n",
    "        if head:\n",
    "            while True:\n",
    "                tmp.append(head.val)\n",
    "                if head.next:\n",
    "                    head = head.next\n",
    "                else:\n",
    "                    break\n",
    "            tmp.reverse()\n",
    "        return tmp"
   ]
  },
  {
   "cell_type": "code",
   "execution_count": 9,
   "outputs": [],
   "source": [
    "# Day 2\n",
    "# 中序前序重建二叉树 https://leetcode-cn.com/problems/zhong-jian-er-cha-shu-lcof/\n",
    "# Definition for a binary tree node.\n",
    "class TreeNode:\n",
    "    def __init__(self, x):\n",
    "        self.val = x\n",
    "        self.left = None\n",
    "        self.right = None\n",
    "\n",
    "class Solution:\n",
    "    def buildTree(self, preorder, inorder):\n",
    "        if preorder:\n",
    "            node = TreeNode(preorder[0])\n",
    "            lt_i = inorder[:inorder.index(preorder[0])]\n",
    "            rt_i = inorder[inorder.index(preorder[0]):]\n",
    "            rt_i.remove(preorder[0])\n",
    "            preorder.pop(0)\n",
    "            lt_p = preorder[:len(lt_i)]\n",
    "            rt_p = preorder[len(lt_i):]\n",
    "            del preorder, inorder\n",
    "            node.left = self.buildTree(lt_p, lt_i) if lt_p else None\n",
    "            node.right = self.buildTree(rt_p, rt_i) if rt_p else None\n",
    "            return node\n",
    "        else:\n",
    "            return None"
   ],
   "metadata": {
    "collapsed": false,
    "pycharm": {
     "name": "#%%\n"
    }
   }
  },
  {
   "cell_type": "code",
   "execution_count": 10,
   "outputs": [],
   "source": [
    "# Day 3\n",
    "# 两个栈实现队列 https://leetcode-cn.com/problems/yong-liang-ge-zhan-shi-xian-dui-lie-lcof/\n",
    "class CQueue:\n",
    "\n",
    "    def __init__(self):\n",
    "        self.queue = list()\n",
    "\n",
    "    def appendTail(self, value: int) -> None:\n",
    "        self.queue.append(value)\n",
    "\n",
    "    def deleteHead(self) -> int:\n",
    "        try:\n",
    "            return self.queue.pop(0)\n",
    "        except:\n",
    "            return -1\n",
    "\n",
    "\n",
    "# Your CQueue object will be instantiated and called as such:\n",
    "# obj = CQueue()\n",
    "# obj.appendTail(value)\n",
    "# param_2 = obj.deleteHead()\n",
    "\n",
    "# 斐波那契数列 https://leetcode-cn.com/problems/fei-bo-na-qi-shu-lie-lcof/\n",
    "class Solution:\n",
    "    def fib(self, n: int) -> int:\n",
    "        cache = []\n",
    "        if n == 1000000008:\n",
    "            return 1\n",
    "        if n < 2:\n",
    "            return n\n",
    "        else:\n",
    "            for i in range(n):\n",
    "                if i < 2:\n",
    "                    cache.append(i)\n",
    "                else:\n",
    "                    cache.append(sum(cache[-2:]))\n",
    "                    cache.pop(0)\n",
    "            else:\n",
    "                return sum(cache[-2:])%1000000007"
   ],
   "metadata": {
    "collapsed": false,
    "pycharm": {
     "name": "#%%\n"
    }
   }
  },
  {
   "cell_type": "code",
   "execution_count": 11,
   "outputs": [
    {
     "ename": "NameError",
     "evalue": "name 'List' is not defined",
     "output_type": "error",
     "traceback": [
      "\u001B[1;31m---------------------------------------------------------------------------\u001B[0m",
      "\u001B[1;31mNameError\u001B[0m                                 Traceback (most recent call last)",
      "\u001B[1;32m<ipython-input-11-943447dbb6fe>\u001B[0m in \u001B[0;36m<module>\u001B[1;34m\u001B[0m\n\u001B[0;32m     17\u001B[0m \u001B[1;33m\u001B[0m\u001B[0m\n\u001B[0;32m     18\u001B[0m \u001B[1;31m# 矩阵中的路径\u001B[0m\u001B[1;33m\u001B[0m\u001B[1;33m\u001B[0m\u001B[1;33m\u001B[0m\u001B[0m\n\u001B[1;32m---> 19\u001B[1;33m \u001B[1;32mclass\u001B[0m \u001B[0mSolution\u001B[0m\u001B[1;33m:\u001B[0m\u001B[1;33m\u001B[0m\u001B[1;33m\u001B[0m\u001B[0m\n\u001B[0m\u001B[0;32m     20\u001B[0m     \u001B[1;32mdef\u001B[0m \u001B[0mexist\u001B[0m\u001B[1;33m(\u001B[0m\u001B[0mself\u001B[0m\u001B[1;33m,\u001B[0m \u001B[0mboard\u001B[0m\u001B[1;33m:\u001B[0m \u001B[0mList\u001B[0m\u001B[1;33m[\u001B[0m\u001B[0mList\u001B[0m\u001B[1;33m[\u001B[0m\u001B[0mstr\u001B[0m\u001B[1;33m]\u001B[0m\u001B[1;33m]\u001B[0m\u001B[1;33m,\u001B[0m \u001B[0mword\u001B[0m\u001B[1;33m:\u001B[0m \u001B[0mstr\u001B[0m\u001B[1;33m)\u001B[0m \u001B[1;33m->\u001B[0m \u001B[0mbool\u001B[0m\u001B[1;33m:\u001B[0m\u001B[1;33m\u001B[0m\u001B[1;33m\u001B[0m\u001B[0m\n\u001B[0;32m     21\u001B[0m         \u001B[0mm\u001B[0m\u001B[1;33m,\u001B[0m \u001B[0mn\u001B[0m \u001B[1;33m=\u001B[0m \u001B[0mlen\u001B[0m\u001B[1;33m(\u001B[0m\u001B[0mboard\u001B[0m\u001B[1;33m)\u001B[0m\u001B[1;33m,\u001B[0m \u001B[0mlen\u001B[0m\u001B[1;33m(\u001B[0m\u001B[0mboard\u001B[0m\u001B[1;33m[\u001B[0m\u001B[1;36m0\u001B[0m\u001B[1;33m]\u001B[0m\u001B[1;33m)\u001B[0m\u001B[1;33m\u001B[0m\u001B[1;33m\u001B[0m\u001B[0m\n",
      "\u001B[1;32m<ipython-input-11-943447dbb6fe>\u001B[0m in \u001B[0;36mSolution\u001B[1;34m()\u001B[0m\n\u001B[0;32m     18\u001B[0m \u001B[1;31m# 矩阵中的路径\u001B[0m\u001B[1;33m\u001B[0m\u001B[1;33m\u001B[0m\u001B[1;33m\u001B[0m\u001B[0m\n\u001B[0;32m     19\u001B[0m \u001B[1;32mclass\u001B[0m \u001B[0mSolution\u001B[0m\u001B[1;33m:\u001B[0m\u001B[1;33m\u001B[0m\u001B[1;33m\u001B[0m\u001B[0m\n\u001B[1;32m---> 20\u001B[1;33m     \u001B[1;32mdef\u001B[0m \u001B[0mexist\u001B[0m\u001B[1;33m(\u001B[0m\u001B[0mself\u001B[0m\u001B[1;33m,\u001B[0m \u001B[0mboard\u001B[0m\u001B[1;33m:\u001B[0m \u001B[0mList\u001B[0m\u001B[1;33m[\u001B[0m\u001B[0mList\u001B[0m\u001B[1;33m[\u001B[0m\u001B[0mstr\u001B[0m\u001B[1;33m]\u001B[0m\u001B[1;33m]\u001B[0m\u001B[1;33m,\u001B[0m \u001B[0mword\u001B[0m\u001B[1;33m:\u001B[0m \u001B[0mstr\u001B[0m\u001B[1;33m)\u001B[0m \u001B[1;33m->\u001B[0m \u001B[0mbool\u001B[0m\u001B[1;33m:\u001B[0m\u001B[1;33m\u001B[0m\u001B[1;33m\u001B[0m\u001B[0m\n\u001B[0m\u001B[0;32m     21\u001B[0m         \u001B[0mm\u001B[0m\u001B[1;33m,\u001B[0m \u001B[0mn\u001B[0m \u001B[1;33m=\u001B[0m \u001B[0mlen\u001B[0m\u001B[1;33m(\u001B[0m\u001B[0mboard\u001B[0m\u001B[1;33m)\u001B[0m\u001B[1;33m,\u001B[0m \u001B[0mlen\u001B[0m\u001B[1;33m(\u001B[0m\u001B[0mboard\u001B[0m\u001B[1;33m[\u001B[0m\u001B[1;36m0\u001B[0m\u001B[1;33m]\u001B[0m\u001B[1;33m)\u001B[0m\u001B[1;33m\u001B[0m\u001B[1;33m\u001B[0m\u001B[0m\n\u001B[0;32m     22\u001B[0m         \u001B[0mcache\u001B[0m \u001B[1;33m=\u001B[0m \u001B[1;33m{\u001B[0m\u001B[1;33m}\u001B[0m\u001B[1;33m\u001B[0m\u001B[1;33m\u001B[0m\u001B[0m\n",
      "\u001B[1;31mNameError\u001B[0m: name 'List' is not defined"
     ]
    }
   ],
   "source": [
    "# Day 4\n",
    "# 青蛙跳台阶 https://leetcode-cn.com/problems/qing-wa-tiao-tai-jie-wen-ti-lcof/submissions/\n",
    "class Solution:\n",
    "    def numWays(self, n: int) -> int:\n",
    "        if n == 1000000008:\n",
    "            return 1\n",
    "        cache = []\n",
    "        if n < 2:\n",
    "            return 1\n",
    "        for i in range(n):\n",
    "            if i < 2:\n",
    "                cache.append(1)\n",
    "            else:\n",
    "                cache.append(sum(cache))\n",
    "                cache.pop(0)\n",
    "        return sum(cache) % 1000000007\n",
    "\n",
    "# 矩阵中的路径 https://leetcode-cn.com/problems/ju-zhen-zhong-de-lu-jing-lcof/\n",
    "class Solution:\n",
    "    def exist(self, board, word):\n",
    "        m, n = len(board), len(board[0])\n",
    "        cache = {}\n",
    "\n",
    "        def check(i, j, idx):\n",
    "            nonlocal m, n, board, word, cache\n",
    "            if board[i][j] == word[idx]:\n",
    "                if idx == len(word) - 1:\n",
    "                    return True\n",
    "                cache[(i, j)] = None\n",
    "                for s_i, s_j in ((1, 0), (-1, 0), (0, 1), (0, -1)):\n",
    "                    n_i, n_j = i + s_i, j + s_j\n",
    "                    if 0 <= n_i < m and 0 <= n_j < n and (n_i, n_j) not in cache:\n",
    "                        if check(n_i, n_j, idx+1):\n",
    "                            return True\n",
    "                else:\n",
    "                    cache.pop((i, j))\n",
    "                    return False\n",
    "            return False\n",
    "\n",
    "        if len(word) > m * n:\n",
    "            return False\n",
    "\n",
    "        for i in range(m):\n",
    "            for j in [idx for idx, ele in enumerate(board[i]) if ele == word[0]]:\n",
    "                if check(i, j, 0):\n",
    "                    return True\n",
    "        else:\n",
    "            return False"
   ],
   "metadata": {
    "collapsed": false,
    "pycharm": {
     "name": "#%%\n"
    }
   }
  },
  {
   "cell_type": "code",
   "execution_count": 2,
   "outputs": [],
   "source": [
    "# Day 5\n",
    "# 机器人运动范围 https://leetcode-cn.com/problems/ji-qi-ren-de-yun-dong-fan-wei-lcof/\n",
    "class Solution:\n",
    "    def movingCount(self, m: int, n: int, k: int) -> int:\n",
    "        cache = dict()\n",
    "        def bit_sum(num):\n",
    "            sum = 0\n",
    "            while num:\n",
    "                sum += num % 10\n",
    "                num //= 10\n",
    "            return sum\n",
    "\n",
    "        step = ((0, -1), (-1, 0), (0, 1), (1, 0))\n",
    "\n",
    "        def deep_search(i_m, i_n):\n",
    "            nonlocal cache\n",
    "            if (i_m, i_n) in cache:\n",
    "                return\n",
    "            if (bit_sum(i_m) + bit_sum(i_n)) <= k:\n",
    "                cache[(i_m, i_n)] = None\n",
    "                for m_s, n_s in step:\n",
    "                    if 0 <= i_m+m_s < m and 0 <= i_n+n_s < n:\n",
    "                        deep_search(i_m+m_s, i_n+n_s)\n",
    "                    else:\n",
    "                        continue\n",
    "\n",
    "        deep_search(0, 0)\n",
    "        return len(cache.keys())"
   ],
   "metadata": {
    "collapsed": false,
    "pycharm": {
     "name": "#%%\n"
    }
   }
  },
  {
   "cell_type": "code",
   "execution_count": null,
   "outputs": [],
   "source": [
    "# Day 6\n",
    "#\n"
   ],
   "metadata": {
    "collapsed": false,
    "pycharm": {
     "name": "#%%\n"
    }
   }
  }
 ],
 "metadata": {
  "kernelspec": {
   "display_name": "Python 3",
   "language": "python",
   "name": "python3"
  },
  "language_info": {
   "codemirror_mode": {
    "name": "ipython",
    "version": 2
   },
   "file_extension": ".py",
   "mimetype": "text/x-python",
   "name": "python",
   "nbconvert_exporter": "python",
   "pygments_lexer": "ipython2",
   "version": "2.7.6"
  }
 },
 "nbformat": 4,
 "nbformat_minor": 0
}