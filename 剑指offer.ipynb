{
 "cells": [
  {
   "cell_type": "code",
   "execution_count": 8,
   "metadata": {
    "collapsed": true
   },
   "outputs": [],
   "source": [
    "# Day 1\n",
    "# 数组中重复数字 https://leetcode-cn.com/problems/shu-zu-zhong-zhong-fu-de-shu-zi-lcof/\n",
    "def find_repeat_number(self, nums: list) -> int:\n",
    "    # list非唯一映射，速度慢\n",
    "    tmp = dict()\n",
    "    for i in nums:\n",
    "        if i not in tmp:\n",
    "            tmp[i] = ''\n",
    "        else:\n",
    "            return i\n",
    "\n",
    "# 二维数组中查找 https://leetcode-cn.com/problems/er-wei-shu-zu-zhong-de-cha-zhao-lcof/\n",
    "def find_num_in_2d_array(self, matrix, target: int) -> bool:\n",
    "        for n in matrix:\n",
    "            for m in n:\n",
    "                if m == target:\n",
    "                    return True\n",
    "                if m > target:\n",
    "                    break\n",
    "                if m < target:\n",
    "                    continue\n",
    "        else:\n",
    "            return False\n",
    "\n",
    "# 替换空格 https://leetcode-cn.com/problems/ti-huan-kong-ge-lcof/\n",
    "def replace_space(self, s: str) -> str:\n",
    "        return '%20'.join(s.split(' '))\n",
    "\n",
    "# 倒序打印链表 https://leetcode-cn.com/problems/cong-wei-dao-tou-da-yin-lian-biao-lcof/submissions/\n",
    "# Definition for singly-linked list.\n",
    "# class ListNode:\n",
    "#     def __init__(self, x):\n",
    "#         self.val = x\n",
    "#         self.next = None\n",
    "\n",
    "class Solution:\n",
    "    def reversePrint(self, head):\n",
    "        tmp = []\n",
    "        if head:\n",
    "            while True:\n",
    "                tmp.append(head.val)\n",
    "                if head.next:\n",
    "                    head = head.next\n",
    "                else:\n",
    "                    break\n",
    "            tmp.reverse()\n",
    "        return tmp"
   ]
  },
  {
   "cell_type": "code",
   "execution_count": 9,
   "outputs": [],
   "source": [
    "# Day 2\n",
    "# 中序前序重建二叉树 https://leetcode-cn.com/problems/zhong-jian-er-cha-shu-lcof/\n",
    "# Definition for a binary tree node.\n",
    "class TreeNode:\n",
    "    def __init__(self, x):\n",
    "        self.val = x\n",
    "        self.left = None\n",
    "        self.right = None\n",
    "\n",
    "class Solution:\n",
    "    def buildTree(self, preorder, inorder):\n",
    "        if preorder:\n",
    "            node = TreeNode(preorder[0])\n",
    "            lt_i = inorder[:inorder.index(preorder[0])]\n",
    "            rt_i = inorder[inorder.index(preorder[0]):]\n",
    "            rt_i.remove(preorder[0])\n",
    "            preorder.pop(0)\n",
    "            lt_p = preorder[:len(lt_i)]\n",
    "            rt_p = preorder[len(lt_i):]\n",
    "            del preorder, inorder\n",
    "            node.left = self.buildTree(lt_p, lt_i) if lt_p else None\n",
    "            node.right = self.buildTree(rt_p, rt_i) if rt_p else None\n",
    "            return node\n",
    "        else:\n",
    "            return None"
   ],
   "metadata": {
    "collapsed": false,
    "pycharm": {
     "name": "#%%\n"
    }
   }
  },
  {
   "cell_type": "code",
   "execution_count": null,
   "outputs": [],
   "source": [
    "\n"
   ],
   "metadata": {
    "collapsed": false,
    "pycharm": {
     "name": "#%%\n"
    }
   }
  }
 ],
 "metadata": {
  "kernelspec": {
   "display_name": "Python 3",
   "language": "python",
   "name": "python3"
  },
  "language_info": {
   "codemirror_mode": {
    "name": "ipython",
    "version": 2
   },
   "file_extension": ".py",
   "mimetype": "text/x-python",
   "name": "python",
   "nbconvert_exporter": "python",
   "pygments_lexer": "ipython2",
   "version": "2.7.6"
  }
 },
 "nbformat": 4,
 "nbformat_minor": 0
}